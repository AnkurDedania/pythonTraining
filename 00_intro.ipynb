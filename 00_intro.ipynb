{
 "cells": [
  {
   "cell_type": "markdown",
   "metadata": {},
   "source": [
    "# Intro to Python (Abridged)\n",
    "\n",
    "Python is an interpreted, high-level and general-purpose programming language.\n",
    "\n",
    "Professionally, Python is great for backend web development, data analysis, artificial intelligence, and scientific computing. Many developers have also used Python to build productivity tools, games, and desktop apps, so there are plenty of resources to help you learn how to do those as well.\n",
    "\n",
    "Python has been rated in the top 3 language for 2020 (sources: GitHub, Stackoverflow, IEEE, TIOBE) "
   ]
  },
  {
   "cell_type": "markdown",
   "metadata": {},
   "source": [
    "# Syllabus\n",
    "- Syntax\n",
    "- Data Structures\n",
    "- Control Flow\n",
    "- Functions & Classes\n",
    "- Numpy\n",
    "- Pandas"
   ]
  },
  {
   "cell_type": "markdown",
   "metadata": {},
   "source": [
    "# Installation\n",
    "\n",
    "Official Installation:\n",
    "- Python.org\n",
    "\n",
    "Unofficial Installation:\n",
    "- Anaconda: https://www.anaconda.com/products/individual (bundled and targeted for Data Scientist)\n",
    "- Miniconda: https://docs.conda.io/en/latest/miniconda.html (base python with conda package manager)\n",
    "\n",
    "Advance Installation:\n",
    "- pyenv https://github.com/pyenv/pyenv (Python version manager, best for working with multiple version of python)"
   ]
  },
  {
   "cell_type": "markdown",
   "metadata": {},
   "source": [
    "# Packages required\n",
    "- pandas\n",
    "- jupyter\n",
    "- numpy\n",
    "\n",
    "```bash\n",
    "# Install command\n",
    "pip install numpy pandas jupyter\n",
    "```"
   ]
  },
  {
   "cell_type": "markdown",
   "metadata": {},
   "source": [
    "# Recommend Learning\n",
    "\n",
    "Self-paced Learning:\n",
    "- https://learnxinyminutes.com/docs/python/\n",
    "- https://www.learnpython.org/\n",
    "- https://docs.python-guide.org/intro/learning/ (also available as a book)\n",
    "- https://pymbook.readthedocs.io/en/latest/index.html\n",
    "\n",
    "Books:\n",
    "- Automate the Boring Stuff with Python (also a course on Udemy)\n",
    "- Learn Python 3 the Hard Way\n",
    "- Python for Data Analysis\n",
    "- Python Crash Course\n",
    "\n",
    "Online:\n",
    "- freeCodeCamp.org\n",
    "- codecademy.com\n",
    "- edx.org\n",
    "- coursera.org\n",
    "- udemy.com\n",
    "- Programming with Mosh - YouTube"
   ]
  },
  {
   "cell_type": "markdown",
   "metadata": {},
   "source": [
    "# Recommended Tools\n",
    "\n",
    "- VSCode (with Python extension)\n",
    "- PyCharm\n",
    "- InteliJ (with Python extension)\n",
    "- Jupyter Notebook/Lab"
   ]
  }
 ],
 "metadata": {
  "kernelspec": {
   "display_name": "Python 3",
   "language": "python",
   "name": "python3"
  },
  "language_info": {
   "codemirror_mode": {
    "name": "ipython",
    "version": 3
   },
   "file_extension": ".py",
   "mimetype": "text/x-python",
   "name": "python",
   "nbconvert_exporter": "python",
   "pygments_lexer": "ipython3",
   "version": "3.8.1"
  }
 },
 "nbformat": 4,
 "nbformat_minor": 4
}
